{
 "cells": [
  {
   "cell_type": "markdown",
   "id": "6f2e60b8",
   "metadata": {},
   "source": [
    "# Merging PDFs using PyPDF2"
   ]
  },
  {
   "cell_type": "code",
   "execution_count": 1,
   "id": "716e10ec",
   "metadata": {},
   "outputs": [],
   "source": [
    "from PyPDF2 import PdfFileMerger"
   ]
  },
  {
   "cell_type": "code",
   "execution_count": 2,
   "id": "c994777f",
   "metadata": {},
   "outputs": [],
   "source": [
    "pdfs = [r'lorem ipsum text only.pdf', r'Petition for Dissolution.pdf']\n",
    "\n",
    "merger = PdfFileMerger(strict=False)\n",
    "\n",
    "for pdf in pdfs:\n",
    "    merger.append(pdf)\n",
    "\n",
    "merger.write(r\"merged file.pdf\")"
   ]
  },
  {
   "cell_type": "code",
   "execution_count": null,
   "id": "83e33bbb",
   "metadata": {},
   "outputs": [],
   "source": []
  }
 ],
 "metadata": {
  "kernelspec": {
   "display_name": "Python 3 (ipykernel)",
   "language": "python",
   "name": "python3"
  },
  "language_info": {
   "codemirror_mode": {
    "name": "ipython",
    "version": 3
   },
   "file_extension": ".py",
   "mimetype": "text/x-python",
   "name": "python",
   "nbconvert_exporter": "python",
   "pygments_lexer": "ipython3",
   "version": "3.9.7"
  }
 },
 "nbformat": 4,
 "nbformat_minor": 5
}
